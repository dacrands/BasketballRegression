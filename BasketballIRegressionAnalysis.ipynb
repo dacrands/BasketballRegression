{
 "cells": [
  {
   "cell_type": "markdown",
   "metadata": {},
   "source": [
    "# Basketball Inferential Analysis\n",
    "<hr>\n",
    "### Players: \n",
    "<ol>\n",
    "    <li>Shaq</li>\n",
    "    <li>The Big Fundamental</li>\n",
    "    <li>The Dream</li>\n",
    "    <li>Round Mound of Rebound</li>\n",
    "    <li>The Mail Man</li>\n",
    "    <li>Kareem</li>\n",
    "    <li>KG</li>\n",
    "    <li>The Admiral</li>\n",
    "</ol>"
   ]
  },
  {
   "cell_type": "code",
   "execution_count": 1,
   "metadata": {
    "collapsed": true
   },
   "outputs": [],
   "source": [
    "import pandas as pd\n",
    "import numpy as np\n",
    "import matplotlib.pyplot as plt\n",
    "import seaborn as sns\n",
    "from scipy import stats\n",
    "\n",
    "from collections import OrderedDict\n",
    "\n",
    "\n",
    "%matplotlib inline"
   ]
  },
  {
   "cell_type": "code",
   "execution_count": 2,
   "metadata": {
    "collapsed": true
   },
   "outputs": [],
   "source": [
    "player_dict = OrderedDict([\n",
    "                           (\"shaq_dframe\", \"https://www.basketball-reference.com/players/o/onealsh01.html\"), # Shaq\n",
    "                           (\"td_dframe\", \"https://www.basketball-reference.com/players/d/duncati01.html\"),   # Tim Duncan\n",
    "                           (\"kg_dframe\", \"https://www.basketball-reference.com/players/g/garneke01.html\"),   # KG\n",
    "                           (\"ka_dframe\", \"https://www.basketball-reference.com/players/a/abdulka01.html\"),   # Kareem \n",
    "                           (\"ho_dframe\", \"https://www.basketball-reference.com/players/o/olajuha01.html\"),   # Hakeem\n",
    "                           (\"cb_dframe\", \"https://www.basketball-reference.com/players/b/barklch01.html\"),   # C Barks\n",
    "                           (\"km_dframe\", \"https://www.basketball-reference.com/players/m/malonka01.html\"),   # Karl Malone\n",
    "                           (\"dr_dframe\", \"https://www.basketball-reference.com/players/r/robinda01.html\")    # David Robinson\n",
    "                          ])"
   ]
  },
  {
   "cell_type": "markdown",
   "metadata": {},
   "source": [
    " I'm only interested in the seasons averages for:\n",
    "\n",
    " <ul>\n",
    "     <li>assists</li>\n",
    "     <li>points</li>\n",
    "     <li>rebounds</li>\n",
    " </ul>\n",
    "\n",
    " and we'll throw age in there as well, just so we have it"
   ]
  },
  {
   "cell_type": "code",
   "execution_count": 3,
   "metadata": {
    "collapsed": false
   },
   "outputs": [],
   "source": [
    "dframes = OrderedDict()\n",
    "for k, url in player_dict.items():\n",
    "    dframes[k] = pd.read_html(url)[0][['AST','PTS','TRB','Age']]"
   ]
  },
  {
   "cell_type": "code",
   "execution_count": 4,
   "metadata": {
    "collapsed": false
   },
   "outputs": [
    {
     "data": {
      "text/html": [
       "<div>\n",
       "<style>\n",
       "    .dataframe thead tr:only-child th {\n",
       "        text-align: right;\n",
       "    }\n",
       "\n",
       "    .dataframe thead th {\n",
       "        text-align: left;\n",
       "    }\n",
       "\n",
       "    .dataframe tbody tr th {\n",
       "        vertical-align: top;\n",
       "    }\n",
       "</style>\n",
       "<table border=\"1\" class=\"dataframe\">\n",
       "  <thead>\n",
       "    <tr style=\"text-align: right;\">\n",
       "      <th></th>\n",
       "      <th>AST</th>\n",
       "      <th>PTS</th>\n",
       "      <th>TRB</th>\n",
       "      <th>Age</th>\n",
       "    </tr>\n",
       "  </thead>\n",
       "  <tbody>\n",
       "    <tr>\n",
       "      <th>0</th>\n",
       "      <td>1.4</td>\n",
       "      <td>20.6</td>\n",
       "      <td>11.9</td>\n",
       "      <td>22.0</td>\n",
       "    </tr>\n",
       "    <tr>\n",
       "      <th>1</th>\n",
       "      <td>2.0</td>\n",
       "      <td>23.5</td>\n",
       "      <td>11.5</td>\n",
       "      <td>23.0</td>\n",
       "    </tr>\n",
       "    <tr>\n",
       "      <th>2</th>\n",
       "      <td>2.9</td>\n",
       "      <td>23.4</td>\n",
       "      <td>11.4</td>\n",
       "      <td>24.0</td>\n",
       "    </tr>\n",
       "    <tr>\n",
       "      <th>3</th>\n",
       "      <td>2.1</td>\n",
       "      <td>22.8</td>\n",
       "      <td>12.1</td>\n",
       "      <td>25.0</td>\n",
       "    </tr>\n",
       "    <tr>\n",
       "      <th>4</th>\n",
       "      <td>1.8</td>\n",
       "      <td>24.8</td>\n",
       "      <td>13.5</td>\n",
       "      <td>26.0</td>\n",
       "    </tr>\n",
       "  </tbody>\n",
       "</table>\n",
       "</div>"
      ],
      "text/plain": [
       "   AST   PTS   TRB   Age\n",
       "0  1.4  20.6  11.9  22.0\n",
       "1  2.0  23.5  11.5  23.0\n",
       "2  2.9  23.4  11.4  24.0\n",
       "3  2.1  22.8  12.1  25.0\n",
       "4  1.8  24.8  13.5  26.0"
      ]
     },
     "execution_count": 4,
     "metadata": {},
     "output_type": "execute_result"
    }
   ],
   "source": [
    "dframes['ho_dframe'][:5]"
   ]
  },
  {
   "cell_type": "markdown",
   "metadata": {},
   "source": [
    "So we know based on the index passed to dframes that these stats belong to the Dream, but there is no way of knowing this by looking at the dframe itself. \n",
    "\n",
    "\n",
    "Thus now that we have a dictionary containing the player dframes, let's add an additional column that identifies the player. \n",
    "For this we will use a list containing the player initials that **follows the same order as the player_dict keys**, i.e., `initials[0] = 'SO'`and `list(dframe.keys())[0] = 'shaq_dframe'`."
   ]
  },
  {
   "cell_type": "code",
   "execution_count": 5,
   "metadata": {
    "collapsed": false
   },
   "outputs": [
    {
     "name": "stdout",
     "output_type": "stream",
     "text": [
      "0 shaq_dframe\n",
      "1 td_dframe\n",
      "2 kg_dframe\n",
      "3 ka_dframe\n",
      "4 ho_dframe\n",
      "5 cb_dframe\n",
      "6 km_dframe\n",
      "7 dr_dframe\n"
     ]
    }
   ],
   "source": [
    "for v, k in enumerate(dframes.keys()):\n",
    "    print(v, k)"
   ]
  },
  {
   "cell_type": "code",
   "execution_count": 7,
   "metadata": {
    "collapsed": false
   },
   "outputs": [],
   "source": [
    "initials = ['SO', 'TD', 'KG', 'KA', 'HO', 'CB', 'KM', 'DR' ]\n",
    "dframe_list = list()\n",
    "\n",
    "for i, k in enumerate(dframes.keys()):\n",
    "    dframes[k]['player'] = pd.Series([initials[i] for n in range(len(dframes[k]))])\n",
    "    dframe_list.append(dframes[k])\n",
    "    \n",
    "main_frame = pd.concat(dframe_list)"
   ]
  },
  {
   "cell_type": "code",
   "execution_count": 8,
   "metadata": {
    "collapsed": false
   },
   "outputs": [
    {
     "data": {
      "text/html": [
       "<div>\n",
       "<style>\n",
       "    .dataframe thead tr:only-child th {\n",
       "        text-align: right;\n",
       "    }\n",
       "\n",
       "    .dataframe thead th {\n",
       "        text-align: left;\n",
       "    }\n",
       "\n",
       "    .dataframe tbody tr th {\n",
       "        vertical-align: top;\n",
       "    }\n",
       "</style>\n",
       "<table border=\"1\" class=\"dataframe\">\n",
       "  <thead>\n",
       "    <tr style=\"text-align: right;\">\n",
       "      <th></th>\n",
       "      <th>AST</th>\n",
       "      <th>PTS</th>\n",
       "      <th>TRB</th>\n",
       "      <th>Age</th>\n",
       "      <th>player</th>\n",
       "    </tr>\n",
       "  </thead>\n",
       "  <tbody>\n",
       "    <tr>\n",
       "      <th>0</th>\n",
       "      <td>1.9</td>\n",
       "      <td>23.4</td>\n",
       "      <td>13.9</td>\n",
       "      <td>20.0</td>\n",
       "      <td>SO</td>\n",
       "    </tr>\n",
       "    <tr>\n",
       "      <th>1</th>\n",
       "      <td>2.4</td>\n",
       "      <td>29.3</td>\n",
       "      <td>13.2</td>\n",
       "      <td>21.0</td>\n",
       "      <td>SO</td>\n",
       "    </tr>\n",
       "    <tr>\n",
       "      <th>2</th>\n",
       "      <td>2.7</td>\n",
       "      <td>29.3</td>\n",
       "      <td>11.4</td>\n",
       "      <td>22.0</td>\n",
       "      <td>SO</td>\n",
       "    </tr>\n",
       "    <tr>\n",
       "      <th>3</th>\n",
       "      <td>2.9</td>\n",
       "      <td>26.6</td>\n",
       "      <td>11.0</td>\n",
       "      <td>23.0</td>\n",
       "      <td>SO</td>\n",
       "    </tr>\n",
       "    <tr>\n",
       "      <th>4</th>\n",
       "      <td>3.1</td>\n",
       "      <td>26.2</td>\n",
       "      <td>12.5</td>\n",
       "      <td>24.0</td>\n",
       "      <td>SO</td>\n",
       "    </tr>\n",
       "  </tbody>\n",
       "</table>\n",
       "</div>"
      ],
      "text/plain": [
       "   AST   PTS   TRB   Age player\n",
       "0  1.9  23.4  13.9  20.0     SO\n",
       "1  2.4  29.3  13.2  21.0     SO\n",
       "2  2.7  29.3  11.4  22.0     SO\n",
       "3  2.9  26.6  11.0  23.0     SO\n",
       "4  3.1  26.2  12.5  24.0     SO"
      ]
     },
     "execution_count": 8,
     "metadata": {},
     "output_type": "execute_result"
    }
   ],
   "source": [
    "main_frame.head()"
   ]
  },
  {
   "cell_type": "code",
   "execution_count": 9,
   "metadata": {
    "collapsed": false
   },
   "outputs": [
    {
     "data": {
      "text/html": [
       "<div>\n",
       "<style>\n",
       "    .dataframe thead tr:only-child th {\n",
       "        text-align: right;\n",
       "    }\n",
       "\n",
       "    .dataframe thead th {\n",
       "        text-align: left;\n",
       "    }\n",
       "\n",
       "    .dataframe tbody tr th {\n",
       "        vertical-align: top;\n",
       "    }\n",
       "</style>\n",
       "<table border=\"1\" class=\"dataframe\">\n",
       "  <thead>\n",
       "    <tr style=\"text-align: right;\">\n",
       "      <th></th>\n",
       "      <th>AST</th>\n",
       "      <th>PTS</th>\n",
       "      <th>TRB</th>\n",
       "      <th>Age</th>\n",
       "      <th>player</th>\n",
       "    </tr>\n",
       "  </thead>\n",
       "  <tbody>\n",
       "    <tr>\n",
       "      <th>10</th>\n",
       "      <td>1.8</td>\n",
       "      <td>17.8</td>\n",
       "      <td>9.6</td>\n",
       "      <td>34.0</td>\n",
       "      <td>DR</td>\n",
       "    </tr>\n",
       "    <tr>\n",
       "      <th>11</th>\n",
       "      <td>1.5</td>\n",
       "      <td>14.4</td>\n",
       "      <td>8.6</td>\n",
       "      <td>35.0</td>\n",
       "      <td>DR</td>\n",
       "    </tr>\n",
       "    <tr>\n",
       "      <th>12</th>\n",
       "      <td>1.2</td>\n",
       "      <td>12.2</td>\n",
       "      <td>8.3</td>\n",
       "      <td>36.0</td>\n",
       "      <td>DR</td>\n",
       "    </tr>\n",
       "    <tr>\n",
       "      <th>13</th>\n",
       "      <td>1.0</td>\n",
       "      <td>8.5</td>\n",
       "      <td>7.9</td>\n",
       "      <td>37.0</td>\n",
       "      <td>DR</td>\n",
       "    </tr>\n",
       "    <tr>\n",
       "      <th>14</th>\n",
       "      <td>2.5</td>\n",
       "      <td>21.1</td>\n",
       "      <td>10.6</td>\n",
       "      <td>NaN</td>\n",
       "      <td>DR</td>\n",
       "    </tr>\n",
       "  </tbody>\n",
       "</table>\n",
       "</div>"
      ],
      "text/plain": [
       "    AST   PTS   TRB   Age player\n",
       "10  1.8  17.8   9.6  34.0     DR\n",
       "11  1.5  14.4   8.6  35.0     DR\n",
       "12  1.2  12.2   8.3  36.0     DR\n",
       "13  1.0   8.5   7.9  37.0     DR\n",
       "14  2.5  21.1  10.6   NaN     DR"
      ]
     },
     "execution_count": 9,
     "metadata": {},
     "output_type": "execute_result"
    }
   ],
   "source": [
    "main_frame.tail()"
   ]
  },
  {
   "cell_type": "code",
   "execution_count": 10,
   "metadata": {
    "collapsed": false,
    "scrolled": false
   },
   "outputs": [
    {
     "data": {
      "text/html": [
       "<div>\n",
       "<style>\n",
       "    .dataframe thead tr:only-child th {\n",
       "        text-align: right;\n",
       "    }\n",
       "\n",
       "    .dataframe thead th {\n",
       "        text-align: left;\n",
       "    }\n",
       "\n",
       "    .dataframe tbody tr th {\n",
       "        vertical-align: top;\n",
       "    }\n",
       "</style>\n",
       "<table border=\"1\" class=\"dataframe\">\n",
       "  <thead>\n",
       "    <tr style=\"text-align: right;\">\n",
       "      <th></th>\n",
       "      <th>AST</th>\n",
       "      <th>PTS</th>\n",
       "      <th>TRB</th>\n",
       "      <th>Age</th>\n",
       "    </tr>\n",
       "  </thead>\n",
       "  <tbody>\n",
       "    <tr>\n",
       "      <th>count</th>\n",
       "      <td>158.000000</td>\n",
       "      <td>158.000000</td>\n",
       "      <td>158.000000</td>\n",
       "      <td>150.00000</td>\n",
       "    </tr>\n",
       "    <tr>\n",
       "      <th>mean</th>\n",
       "      <td>3.100633</td>\n",
       "      <td>21.145570</td>\n",
       "      <td>10.553797</td>\n",
       "      <td>30.18000</td>\n",
       "    </tr>\n",
       "    <tr>\n",
       "      <th>std</th>\n",
       "      <td>1.106063</td>\n",
       "      <td>6.072016</td>\n",
       "      <td>2.415150</td>\n",
       "      <td>5.50664</td>\n",
       "    </tr>\n",
       "    <tr>\n",
       "      <th>min</th>\n",
       "      <td>0.700000</td>\n",
       "      <td>3.200000</td>\n",
       "      <td>3.900000</td>\n",
       "      <td>19.00000</td>\n",
       "    </tr>\n",
       "    <tr>\n",
       "      <th>25%</th>\n",
       "      <td>2.400000</td>\n",
       "      <td>17.550000</td>\n",
       "      <td>8.925000</td>\n",
       "      <td>26.00000</td>\n",
       "    </tr>\n",
       "    <tr>\n",
       "      <th>50%</th>\n",
       "      <td>3.000000</td>\n",
       "      <td>22.200000</td>\n",
       "      <td>10.800000</td>\n",
       "      <td>30.00000</td>\n",
       "    </tr>\n",
       "    <tr>\n",
       "      <th>75%</th>\n",
       "      <td>3.900000</td>\n",
       "      <td>25.600000</td>\n",
       "      <td>12.100000</td>\n",
       "      <td>35.00000</td>\n",
       "    </tr>\n",
       "    <tr>\n",
       "      <th>max</th>\n",
       "      <td>6.000000</td>\n",
       "      <td>34.800000</td>\n",
       "      <td>16.900000</td>\n",
       "      <td>41.00000</td>\n",
       "    </tr>\n",
       "  </tbody>\n",
       "</table>\n",
       "</div>"
      ],
      "text/plain": [
       "              AST         PTS         TRB        Age\n",
       "count  158.000000  158.000000  158.000000  150.00000\n",
       "mean     3.100633   21.145570   10.553797   30.18000\n",
       "std      1.106063    6.072016    2.415150    5.50664\n",
       "min      0.700000    3.200000    3.900000   19.00000\n",
       "25%      2.400000   17.550000    8.925000   26.00000\n",
       "50%      3.000000   22.200000   10.800000   30.00000\n",
       "75%      3.900000   25.600000   12.100000   35.00000\n",
       "max      6.000000   34.800000   16.900000   41.00000"
      ]
     },
     "execution_count": 10,
     "metadata": {},
     "output_type": "execute_result"
    }
   ],
   "source": [
    "# Let's take a look at some descriptive stats\n",
    "main_frame.describe()"
   ]
  },
  {
   "cell_type": "markdown",
   "metadata": {},
   "source": [
    "## Let's check the distrubitions and see if there's any funny business"
   ]
  },
  {
   "cell_type": "code",
   "execution_count": 11,
   "metadata": {
    "collapsed": false
   },
   "outputs": [],
   "source": [
    "boards = pd.Series(main_frame['TRB'], name=\"Boards\")"
   ]
  },
  {
   "cell_type": "code",
   "execution_count": 12,
   "metadata": {
    "collapsed": true
   },
   "outputs": [],
   "source": [
    "points = pd.Series(main_frame['PTS'], name=\"Points\")"
   ]
  },
  {
   "cell_type": "code",
   "execution_count": 13,
   "metadata": {
    "collapsed": false,
    "scrolled": true
   },
   "outputs": [
    {
     "data": {
      "image/png": "[encoded data removed]",
      "text/plain": [
       "<matplotlib.figure.Figure at 0x1cba63c1320>"
      ]
     },
     "metadata": {},
     "output_type": "display_data"
    }
   ],
   "source": [
    "sns.set_style(\"darkgrid\")\n",
    "f, (ax1, ax2) = plt.subplots(1, 2, figsize=(15,5))\n",
    "point_dist = sns.distplot(points, label=\"Points\", ax=ax1)\n",
    "boards_dist = sns.distplot(boards, label=\"Boards\", ax=ax2)"
   ]
  },
  {
   "cell_type": "code",
   "execution_count": 14,
   "metadata": {
    "collapsed": false
   },
   "outputs": [
    {
     "name": "stdout",
     "output_type": "stream",
     "text": [
      "boards M:  10.5537974684\n",
      "points M:  21.1455696203\n"
     ]
    }
   ],
   "source": [
    "# Compute the means\n",
    "boardsMean = sum(boards) / float(len(boards))\n",
    "pointsMean = sum(points) / float(len(points))\n",
    "\n",
    "print(\"boards M: \",boardsMean)\n",
    "print(\"points M: \",pointsMean)"
   ]
  },
  {
   "cell_type": "code",
   "execution_count": 15,
   "metadata": {
    "collapsed": false
   },
   "outputs": [],
   "source": [
    "# TODO write Fisher Kurtosis formula\n",
    "# for now use SciPy\n",
    "pointsK = stats.kurtosis(points, axis=0, fisher=True, bias=True, \n",
    "                         nan_policy='propagate')"
   ]
  },
  {
   "cell_type": "code",
   "execution_count": 16,
   "metadata": {
    "collapsed": false
   },
   "outputs": [],
   "source": [
    "boardsK = stats.kurtosis(boards, axis=0, fisher=True, bias=True, \n",
    "                         nan_policy='propagate')"
   ]
  },
  {
   "cell_type": "code",
   "execution_count": 17,
   "metadata": {
    "collapsed": false
   },
   "outputs": [
    {
     "data": {
      "text/html": [
       "<div>\n",
       "<style>\n",
       "    .dataframe thead tr:only-child th {\n",
       "        text-align: right;\n",
       "    }\n",
       "\n",
       "    .dataframe thead th {\n",
       "        text-align: left;\n",
       "    }\n",
       "\n",
       "    .dataframe tbody tr th {\n",
       "        vertical-align: top;\n",
       "    }\n",
       "</style>\n",
       "<table border=\"1\" class=\"dataframe\">\n",
       "  <thead>\n",
       "    <tr style=\"text-align: right;\">\n",
       "      <th></th>\n",
       "      <th>Boards \n",
       "Kurtosis</th>\n",
       "      <th>Points \n",
       "Kurtosis</th>\n",
       "    </tr>\n",
       "  </thead>\n",
       "  <tbody>\n",
       "    <tr>\n",
       "      <th>0</th>\n",
       "      <td>0.122124</td>\n",
       "      <td>-0.051507</td>\n",
       "    </tr>\n",
       "  </tbody>\n",
       "</table>\n",
       "</div>"
      ],
      "text/plain": [
       "   Boards \\nKurtosis  Points \\nKurtosis\n",
       "0           0.122124          -0.051507"
      ]
     },
     "execution_count": 17,
     "metadata": {},
     "output_type": "execute_result"
    }
   ],
   "source": [
    "pd.DataFrame({\"Points \\nKurtosis\":pointsK,\n",
    "              \"Boards \\nKurtosis\":[boardsK]})"
   ]
  },
  {
   "cell_type": "markdown",
   "metadata": {},
   "source": [
    "There is a relatively normal distribution for each sample, so we'll accept the data in its current form.\n",
    "<hr>\n",
    "Next, let's view the shape of the relationship between boards and points, specifically our intention is to regress points onto boards."
   ]
  },
  {
   "cell_type": "code",
   "execution_count": 18,
   "metadata": {
    "collapsed": false,
    "scrolled": true
   },
   "outputs": [
    {
     "data": {
      "text/plain": [
       "<matplotlib.text.Text at 0x1cba61d0588>"
      ]
     },
     "execution_count": 18,
     "metadata": {},
     "output_type": "execute_result"
    },
    {
     "data": {
      "image/png": "[encoded data removed]",
      "text/plain": [
       "<matplotlib.figure.Figure at 0x1cba6463d68>"
      ]
     },
     "metadata": {},
     "output_type": "display_data"
    }
   ],
   "source": [
    "sns.set_style(\"white\")\n",
    "f, ax = plt.subplots(figsize=(6,5))\n",
    "ax.plot(boards, points, 'ro')\n",
    "ax.set_xlabel(\"Boards\")\n",
    "ax.set_ylabel(\"Points\")"
   ]
  },
  {
   "cell_type": "markdown",
   "metadata": {},
   "source": [
    "Excellent! This data has a nice linear trend, so simple linear regression seems to be the right tool for the job."
   ]
  },
  {
   "cell_type": "markdown",
   "metadata": {
    "collapsed": true
   },
   "source": [
    "## Simple Linear Regression Analysis\n",
    "<hr>\n",
    "\n",
    "I want to get some practice transposing formulas, so I will not\n",
    "be using the scipy library until the end where we'll check the accuracy\n",
    "of these methods\n",
    "\n",
    "### Formulas\n",
    "All the formulas I am using are present in *An Introduction to Statistical Learning with Applications in R,* by James et al., 2013.\n",
    "\n",
    "*Note: At the end of this notebook we'll compare the accuracy of my code to Scipy's*\n",
    "<br>"
   ]
  },
  {
   "cell_type": "markdown",
   "metadata": {},
   "source": [
    "First, let's get everthing we needs to compute our slope. \n",
    "We will be modelling the following equation (p.62): \n",
    "<br>\n",
    "<br>\n",
    "$\\huge\\hat\\beta_1=\\frac{\\sum_{i=0}^n (x_i - \\bar{x})(y_i - \\bar{y})}{\\sum_{i=0}^n(x_i - \\bar{x})^2}$\n",
    "<br>\n",
    "Recall that $x_n$ and $y_n$ represent our rebounds and points, respectively."
   ]
  },
  {
   "cell_type": "code",
   "execution_count": 19,
   "metadata": {
    "collapsed": false
   },
   "outputs": [
    {
     "data": {
      "text/plain": [
       "1.8520781612871864"
      ]
     },
     "execution_count": 19,
     "metadata": {},
     "output_type": "execute_result"
    }
   ],
   "source": [
    "# Calculate the slope\n",
    "rise = 0\n",
    "run = 0\n",
    "for i, x in enumerate(list(boards)):\n",
    "    rise += (x - boardsMean) * (list(points)[i] - pointsMean) \n",
    "    run += (x - boardsMean) ** 2\n",
    "\n",
    "mySlope = rise/run\n",
    "mySlope"
   ]
  },
  {
   "cell_type": "markdown",
   "metadata": {
    "collapsed": false
   },
   "source": [
    "Now that we have our slope let's get our intercept (p.62).\n",
    "<br>\n",
    "<br>\n",
    "$\\huge\\hat\\beta_0=\\bar{y}-\\hat\\beta_1\\bar{x}$"
   ]
  },
  {
   "cell_type": "code",
   "execution_count": 20,
   "metadata": {
    "collapsed": false
   },
   "outputs": [
    {
     "data": {
      "text/plain": [
       "1.5991118104659208"
      ]
     },
     "execution_count": 20,
     "metadata": {},
     "output_type": "execute_result"
    }
   ],
   "source": [
    "yInter = pointsMean - (mySlope * boardsMean) \n",
    "yInter"
   ]
  },
  {
   "cell_type": "markdown",
   "metadata": {},
   "source": [
    "Let's view our regression line and see how well our coefficients fit the data."
   ]
  },
  {
   "cell_type": "code",
   "execution_count": 21,
   "metadata": {
    "collapsed": false,
    "scrolled": true
   },
   "outputs": [
    {
     "data": {
      "text/plain": [
       "<matplotlib.legend.Legend at 0x1cba6a5f940>"
      ]
     },
     "execution_count": 21,
     "metadata": {},
     "output_type": "execute_result"
    },
    {
     "data": {
      "image/png": "[encoded data removed]",
      "text/plain": [
       "<matplotlib.figure.Figure at 0x1cba61dc470>"
      ]
     },
     "metadata": {},
     "output_type": "display_data"
    }
   ],
   "source": [
    "fig, ax = plt.subplots(figsize=(7,5))\n",
    "sns.set_style(\"white\")\n",
    "scatter = ax.plot(boards, points, 'o', label='Data')\n",
    "line = ax.plot(boards, yInter + mySlope*boards, 'r', label='fitted line')\n",
    "plt.legend()"
   ]
  },
  {
   "cell_type": "markdown",
   "metadata": {},
   "source": [
    "Looks pretty good to me, but it doesn't look pretty. Let's see how the seaborn ```regplot()``` function matches up with my graph."
   ]
  },
  {
   "cell_type": "code",
   "execution_count": 22,
   "metadata": {
    "collapsed": false
   },
   "outputs": [
    {
     "data": {
      "image/png": "[encoded data removed]",
      "text/plain": [
       "<matplotlib.figure.Figure at 0x1cba63c16a0>"
      ]
     },
     "metadata": {},
     "output_type": "display_data"
    }
   ],
   "source": [
    "ax = sns.regplot(x=boards, y=points, color=\"#cbd1db\")\n",
    "ax.set_facecolor(\"#0d2959\")"
   ]
  },
  {
   "cell_type": "markdown",
   "metadata": {},
   "source": [
    "$\\huge\\textit{RSS} = \\sum_{i=0}^n (\\hat{y_i} - \\bar{y})$"
   ]
  },
  {
   "cell_type": "code",
   "execution_count": 23,
   "metadata": {
    "collapsed": false
   },
   "outputs": [
    {
     "data": {
      "text/plain": [
       "2647.2142476924614"
      ]
     },
     "execution_count": 23,
     "metadata": {},
     "output_type": "execute_result"
    }
   ],
   "source": [
    "# Compute the residual sum of squares\n",
    "RSS = 0\n",
    "for i, y in enumerate(list(points)):\n",
    "    RSS += (y - (yInter + (mySlope*list(boards)[i])))**2\n",
    "RSS"
   ]
  },
  {
   "cell_type": "markdown",
   "metadata": {},
   "source": [
    "$\\huge\\textit{TSS} = \\sum_{i=0}^n (y_i - \\bar{y})$"
   ]
  },
  {
   "cell_type": "code",
   "execution_count": 24,
   "metadata": {
    "collapsed": false
   },
   "outputs": [
    {
     "data": {
      "text/plain": [
       "5788.491898734178"
      ]
     },
     "execution_count": 24,
     "metadata": {},
     "output_type": "execute_result"
    }
   ],
   "source": [
    "# total sum of squares\n",
    "TSS = 0\n",
    "for y in points:\n",
    "    TSS += (y - pointsMean)**2\n",
    "TSS"
   ]
  },
  {
   "cell_type": "markdown",
   "metadata": {},
   "source": [
    "$\\huge\\textit{RSE} = \\sqrt{RSS  /  n-2}$"
   ]
  },
  {
   "cell_type": "code",
   "execution_count": 25,
   "metadata": {
    "collapsed": false,
    "scrolled": true
   },
   "outputs": [
    {
     "data": {
      "text/plain": [
       "4.1193837039771743"
      ]
     },
     "execution_count": 25,
     "metadata": {},
     "output_type": "execute_result"
    }
   ],
   "source": [
    "# Find the residual standard err\n",
    "RSE = (RSS/(len(boards)-2))** 0.5\n",
    "RSE"
   ]
  },
  {
   "cell_type": "code",
   "execution_count": 26,
   "metadata": {
    "collapsed": false
   },
   "outputs": [
    {
     "data": {
      "text/plain": [
       "0.54267634921086239"
      ]
     },
     "execution_count": 26,
     "metadata": {},
     "output_type": "execute_result"
    }
   ],
   "source": [
    "# R squared\n",
    "myRsquared = 1 - (RSS/TSS)\n",
    "myRsquared"
   ]
  },
  {
   "cell_type": "markdown",
   "metadata": {},
   "source": [
    "Now let's see how we stack up with scipy so far..."
   ]
  },
  {
   "cell_type": "code",
   "execution_count": 27,
   "metadata": {
    "collapsed": false
   },
   "outputs": [
    {
     "data": {
      "text/plain": [
       "2.7075110968635889e-28"
      ]
     },
     "execution_count": 27,
     "metadata": {},
     "output_type": "execute_result"
    }
   ],
   "source": [
    "slope, intercept, r_value, p_value, std_err = stats.linregress(boards,points)\n",
    "\n",
    "p_value"
   ]
  },
  {
   "cell_type": "code",
   "execution_count": 28,
   "metadata": {
    "collapsed": false
   },
   "outputs": [],
   "source": [
    "compare_stats = OrderedDict([('stats',['slope','intercept','r-sqaured']),\n",
    "                             ('me',[mySlope, yInter, myRsquared]),\n",
    "                             ('scipy',[slope, intercept, r_value**2])\n",
    "                            ])\n",
    "\n",
    "comparison_dframe = pd.DataFrame(compare_stats)"
   ]
  },
  {
   "cell_type": "code",
   "execution_count": 29,
   "metadata": {
    "collapsed": false
   },
   "outputs": [
    {
     "data": {
      "text/html": [
       "<div>\n",
       "<style>\n",
       "    .dataframe thead tr:only-child th {\n",
       "        text-align: right;\n",
       "    }\n",
       "\n",
       "    .dataframe thead th {\n",
       "        text-align: left;\n",
       "    }\n",
       "\n",
       "    .dataframe tbody tr th {\n",
       "        vertical-align: top;\n",
       "    }\n",
       "</style>\n",
       "<table border=\"1\" class=\"dataframe\">\n",
       "  <thead>\n",
       "    <tr style=\"text-align: right;\">\n",
       "      <th></th>\n",
       "      <th>stats</th>\n",
       "      <th>me</th>\n",
       "      <th>scipy</th>\n",
       "    </tr>\n",
       "  </thead>\n",
       "  <tbody>\n",
       "    <tr>\n",
       "      <th>0</th>\n",
       "      <td>slope</td>\n",
       "      <td>1.852078</td>\n",
       "      <td>1.852078</td>\n",
       "    </tr>\n",
       "    <tr>\n",
       "      <th>1</th>\n",
       "      <td>intercept</td>\n",
       "      <td>1.599112</td>\n",
       "      <td>1.599112</td>\n",
       "    </tr>\n",
       "    <tr>\n",
       "      <th>2</th>\n",
       "      <td>r-sqaured</td>\n",
       "      <td>0.542676</td>\n",
       "      <td>0.542676</td>\n",
       "    </tr>\n",
       "  </tbody>\n",
       "</table>\n",
       "</div>"
      ],
      "text/plain": [
       "       stats        me     scipy\n",
       "0      slope  1.852078  1.852078\n",
       "1  intercept  1.599112  1.599112\n",
       "2  r-sqaured  0.542676  0.542676"
      ]
     },
     "execution_count": 29,
     "metadata": {},
     "output_type": "execute_result"
    }
   ],
   "source": [
    "comparison_dframe"
   ]
  },
  {
   "cell_type": "markdown",
   "metadata": {},
   "source": [
    "**Excellent!** We are accurate to the millionth place! A few more decimal places, however, and the numbers are no longer exact matches, specifically the 16th decimal place (i.e., `1.8024282801174698` > `1.8024282801174696`, where the former value is from Scipy). \n",
    "\n",
    "Now that we know our methods work, we can turn them into functions to help with our multiple linear regression, i.e., when we take bring dimes (assists) into the picture! But before we do that, let's continue our analyses."
   ]
  },
  {
   "cell_type": "code",
   "execution_count": 30,
   "metadata": {
    "collapsed": false
   },
   "outputs": [
    {
     "data": {
      "text/plain": [
       "0.01853005849797076"
      ]
     },
     "execution_count": 30,
     "metadata": {},
     "output_type": "execute_result"
    }
   ],
   "source": [
    "SE_slope_squared = (RSE**2) / run\n",
    "SE_slope_squared"
   ]
  },
  {
   "cell_type": "code",
   "execution_count": 31,
   "metadata": {
    "collapsed": false
   },
   "outputs": [
    {
     "data": {
      "text/plain": [
       "2.1727045592179173"
      ]
     },
     "execution_count": 31,
     "metadata": {},
     "output_type": "execute_result"
    }
   ],
   "source": [
    "SE_yInter_squared = (((RSE**2)/(len(points)-2)) + ((RSE**2)*(boardsMean**2)/run))  \n",
    "SE_yInter_squared"
   ]
  },
  {
   "cell_type": "code",
   "execution_count": 32,
   "metadata": {
    "collapsed": false
   },
   "outputs": [
    {
     "data": {
      "text/plain": [
       "13.605700780243193"
      ]
     },
     "execution_count": 32,
     "metadata": {},
     "output_type": "execute_result"
    }
   ],
   "source": [
    "t_score = (mySlope-0) / SE_slope_squared**0.5\n",
    "t_score"
   ]
  },
  {
   "cell_type": "code",
   "execution_count": 33,
   "metadata": {
    "collapsed": false
   },
   "outputs": [
    {
     "name": "stdout",
     "output_type": "stream",
     "text": [
      "The 95% probability that the true value of y (points) will fall between 15.8 and 21.24 points.\n"
     ]
    }
   ],
   "source": [
    "ci_slope_lower, ci_slope_upper = ((mySlope - (2*(SE_slope_squared**0.5))),\n",
    "                                  (mySlope + (2*(SE_slope_squared**0.5))))\n",
    "\n",
    "print(\"The 95% probability that the true value of y (points) will fall between {0} and {1} points.\".format(round(ci_slope_lower*10,2),\n",
    "                                                                                                        round(ci_slope_upper*10,2)))"
   ]
  },
  {
   "cell_type": "code",
   "execution_count": 34,
   "metadata": {
    "collapsed": false
   },
   "outputs": [
    {
     "data": {
      "text/plain": [
       "(-1.3489075647878561, 4.5471311857196977)"
      ]
     },
     "execution_count": 34,
     "metadata": {},
     "output_type": "execute_result"
    }
   ],
   "source": [
    "ci_inter_lower, ci_inter_upper = ((yInter - (2*(SE_yInter_squared**0.5))),\n",
    "                                  (yInter + (2*(SE_yInter_squared**0.5))))\n",
    "\n",
    "ci_inter_lower, ci_inter_upper"
   ]
  },
  {
   "cell_type": "markdown",
   "metadata": {},
   "source": [
    "Looks like we need clean the data a bit"
   ]
  },
  {
   "cell_type": "code",
   "execution_count": 35,
   "metadata": {
    "collapsed": false
   },
   "outputs": [
    {
     "data": {
      "text/html": [
       "<div>\n",
       "<style>\n",
       "    .dataframe thead tr:only-child th {\n",
       "        text-align: right;\n",
       "    }\n",
       "\n",
       "    .dataframe thead th {\n",
       "        text-align: left;\n",
       "    }\n",
       "\n",
       "    .dataframe tbody tr th {\n",
       "        vertical-align: top;\n",
       "    }\n",
       "</style>\n",
       "<table border=\"1\" class=\"dataframe\">\n",
       "  <thead>\n",
       "    <tr style=\"text-align: right;\">\n",
       "      <th></th>\n",
       "      <th>AST</th>\n",
       "      <th>PTS</th>\n",
       "      <th>TRB</th>\n",
       "      <th>Age</th>\n",
       "    </tr>\n",
       "  </thead>\n",
       "  <tbody>\n",
       "    <tr>\n",
       "      <th>count</th>\n",
       "      <td>158.000000</td>\n",
       "      <td>158.000000</td>\n",
       "      <td>158.000000</td>\n",
       "      <td>150.00000</td>\n",
       "    </tr>\n",
       "    <tr>\n",
       "      <th>mean</th>\n",
       "      <td>3.100633</td>\n",
       "      <td>21.145570</td>\n",
       "      <td>10.553797</td>\n",
       "      <td>30.18000</td>\n",
       "    </tr>\n",
       "    <tr>\n",
       "      <th>std</th>\n",
       "      <td>1.106063</td>\n",
       "      <td>6.072016</td>\n",
       "      <td>2.415150</td>\n",
       "      <td>5.50664</td>\n",
       "    </tr>\n",
       "    <tr>\n",
       "      <th>min</th>\n",
       "      <td>0.700000</td>\n",
       "      <td>3.200000</td>\n",
       "      <td>3.900000</td>\n",
       "      <td>19.00000</td>\n",
       "    </tr>\n",
       "    <tr>\n",
       "      <th>25%</th>\n",
       "      <td>2.400000</td>\n",
       "      <td>17.550000</td>\n",
       "      <td>8.925000</td>\n",
       "      <td>26.00000</td>\n",
       "    </tr>\n",
       "    <tr>\n",
       "      <th>50%</th>\n",
       "      <td>3.000000</td>\n",
       "      <td>22.200000</td>\n",
       "      <td>10.800000</td>\n",
       "      <td>30.00000</td>\n",
       "    </tr>\n",
       "    <tr>\n",
       "      <th>75%</th>\n",
       "      <td>3.900000</td>\n",
       "      <td>25.600000</td>\n",
       "      <td>12.100000</td>\n",
       "      <td>35.00000</td>\n",
       "    </tr>\n",
       "    <tr>\n",
       "      <th>max</th>\n",
       "      <td>6.000000</td>\n",
       "      <td>34.800000</td>\n",
       "      <td>16.900000</td>\n",
       "      <td>41.00000</td>\n",
       "    </tr>\n",
       "  </tbody>\n",
       "</table>\n",
       "</div>"
      ],
      "text/plain": [
       "              AST         PTS         TRB        Age\n",
       "count  158.000000  158.000000  158.000000  150.00000\n",
       "mean     3.100633   21.145570   10.553797   30.18000\n",
       "std      1.106063    6.072016    2.415150    5.50664\n",
       "min      0.700000    3.200000    3.900000   19.00000\n",
       "25%      2.400000   17.550000    8.925000   26.00000\n",
       "50%      3.000000   22.200000   10.800000   30.00000\n",
       "75%      3.900000   25.600000   12.100000   35.00000\n",
       "max      6.000000   34.800000   16.900000   41.00000"
      ]
     },
     "execution_count": 35,
     "metadata": {},
     "output_type": "execute_result"
    }
   ],
   "source": [
    "main_stats = main_frame.describe()\n",
    "main_stats"
   ]
  },
  {
   "cell_type": "code",
   "execution_count": 36,
   "metadata": {
    "collapsed": false
   },
   "outputs": [],
   "source": [
    "points_sd = main_stats['PTS']['std']\n",
    "points_sd = main_stats['TRB']['std']"
   ]
  },
  {
   "cell_type": "code",
   "execution_count": 37,
   "metadata": {
    "collapsed": false
   },
   "outputs": [],
   "source": [
    "# create new list\n",
    "# outlier will be 2 SD from mean\n",
    "cleanPoints = [i for i in points if i < pointsMean+(2*points_sd) and i > pointsMean-(2*points_sd)]\n",
    "cleanBoards = [i for i in boards if i < boardsMean+(2*points_sd) and i > boardsMean-(2*points_sd)]\n",
    "\n",
    "cleanBoards = pd.Series(cleanBoards, name= \"Clean Boards\")\n",
    "cleanPoints = pd.Series(cleanPoints, name= \"Clean Points\")"
   ]
  },
  {
   "cell_type": "code",
   "execution_count": 38,
   "metadata": {
    "collapsed": false
   },
   "outputs": [
    {
     "data": {
      "text/plain": [
       "(86, 150)"
      ]
     },
     "execution_count": 38,
     "metadata": {},
     "output_type": "execute_result"
    }
   ],
   "source": [
    "len(cleanPoints), len(cleanBoards)"
   ]
  },
  {
   "cell_type": "code",
   "execution_count": 45,
   "metadata": {
    "collapsed": false
   },
   "outputs": [
    {
     "data": {
      "text/plain": [
       "pandas.core.series.Series"
      ]
     },
     "execution_count": 45,
     "metadata": {},
     "output_type": "execute_result"
    }
   ],
   "source": [
    "type(points)"
   ]
  },
  {
   "cell_type": "code",
   "execution_count": 47,
   "metadata": {
    "collapsed": false
   },
   "outputs": [
    {
     "data": {
      "image/png": "[encoded data removed]",
      "text/plain": [
       "<matplotlib.figure.Figure at 0x1cba69fd7b8>"
      ]
     },
     "metadata": {},
     "output_type": "display_data"
    }
   ],
   "source": [
    "fig, ((ax1, ax2), (ax3, ax4)) = plt.subplots(2, 2, figsize=(10,10))\n",
    "\n",
    "point_hist = sns.distplot(points.sample(85), rug=True, label=\"Points\",ax=ax1 )\n",
    "boards_hist = sns.distplot(boards.sample(85), rug=True, label=\"Boards\", ax=ax2)\n",
    "\n",
    "clean_points_hist = sns.distplot(cleanPoints[:85], color=\"#6151ba\", rug=True, \n",
    "                                 label=\"cleanPoints\",ax=ax3)\n",
    "clean_boards_hist = sns.distplot(cleanBoards[:85], color=\"#6151ba\" , rug=True,\n",
    "                                 label=\"cleanBoards\",ax=ax4)"
   ]
  },
  {
   "cell_type": "code",
   "execution_count": 161,
   "metadata": {
    "collapsed": false
   },
   "outputs": [
    {
     "data": {
      "text/plain": [
       "(2.7075110968635889e-28, 0.48113609947437674)"
      ]
     },
     "execution_count": 161,
     "metadata": {},
     "output_type": "execute_result"
    }
   ],
   "source": [
    "clean_slope, clean_intercept, clean_r_value, clean_p_value, clean_std_err = stats.linregress(cleanBoards[:85], cleanPoints[:85])                                                            \n",
    "\n",
    "(p_value, clean_p_value)"
   ]
  },
  {
   "cell_type": "code",
   "execution_count": 162,
   "metadata": {
    "collapsed": false
   },
   "outputs": [
    {
     "data": {
      "text/plain": [
       "(4, 16)"
      ]
     },
     "execution_count": 162,
     "metadata": {},
     "output_type": "execute_result"
    },
    {
     "data": {
      "image/png": "[encoded data removed]",
      "text/plain": [
       "<matplotlib.figure.Figure at 0x1eec5715978>"
      ]
     },
     "metadata": {},
     "output_type": "display_data"
    }
   ],
   "source": [
    "fig, ax = plt.subplots(figsize = (7,5))\n",
    "\n",
    "ax.set_facecolor('#d6d9db')\n",
    "ax = sns.regplot(x=pd.Series(cleanBoards[:85]),  \n",
    "                 y=pd.Series(cleanPoints[:85]),\n",
    "                 color=\"#26617c\")\n",
    "ax.set(xlabel='Clean Points', ylabel='Clean Boards')\n",
    "ax.set_ylim(5, 35)\n",
    "ax.set_xlim(4, 16)"
   ]
  },
  {
   "cell_type": "code",
   "execution_count": null,
   "metadata": {
    "collapsed": true
   },
   "outputs": [],
   "source": []
  }
 ],
 "metadata": {
  "kernelspec": {
   "display_name": "Python 3",
   "language": "python",
   "name": "python3"
  },
  "language_info": {
   "codemirror_mode": {
    "name": "ipython",
    "version": 3
   },
   "file_extension": ".py",
   "mimetype": "text/x-python",
   "name": "python",
   "nbconvert_exporter": "python",
   "pygments_lexer": "ipython3",
   "version": "3.6.0"
  }
 },
 "nbformat": 4,
 "nbformat_minor": 2
}
