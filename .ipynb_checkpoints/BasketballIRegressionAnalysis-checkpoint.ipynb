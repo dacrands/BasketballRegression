{
 "cells": [
  {
   "cell_type": "markdown",
   "metadata": {},
   "source": [
    "# Basketball Inferential Analysis\n",
    "<hr>\n",
    "### Players: \n",
    "<ol>\n",
    "    <li>Shaq</li>\n",
    "    <li>The Big Fundamental</li>\n",
    "    <li>The Dream</li>\n",
    "    <li>Round Mound of Rebound</li>\n",
    "    <li>The Mail Man</li>\n",
    "    <li>Kareem</li>\n",
    "    <li>KG</li>\n",
    "</ol>"
   ]
  },
  {
   "cell_type": "code",
   "execution_count": 1,
   "metadata": {
    "collapsed": true
   },
   "outputs": [],
   "source": [
    "# Note we are not importing scipy...\n",
    "# for this simple analysis, we'll be using vanilla-Python\n",
    "\n",
    "import pandas as pd\n",
    "import matplotlib.pyplot as plt\n",
    "import seaborn as sns\n",
    "%matplotlib inline"
   ]
  },
  {
   "cell_type": "code",
   "execution_count": 2,
   "metadata": {
    "collapsed": true
   },
   "outputs": [],
   "source": [
    "#TODO use and ordered dict\n",
    "\n",
    "player_dict = {\"shaq_dframe\" : \"https://www.basketball-reference.com/players/o/onealsh01.html\",\n",
    "               \"td_dframe\" : \"https://www.basketball-reference.com/players/d/duncati01.html\",\n",
    "               \"kg_dframe\" : \"https://www.basketball-reference.com/players/g/garneke01.html\",\n",
    "               \"ka_dframe\" : \"https://www.basketball-reference.com/players/a/abdulka01.html\",\n",
    "               \"ho_dframe\" : \"https://www.basketball-reference.com/players/o/olajuha01.html\",\n",
    "               \"cb_dframe\" : \"https://www.basketball-reference.com/players/b/barklch01.html\",\n",
    "               \"km_dframe\" : \"https://www.basketball-reference.com/players/m/malonka01.html\"}"
   ]
  },
  {
   "cell_type": "code",
   "execution_count": 3,
   "metadata": {
    "collapsed": false
   },
   "outputs": [],
   "source": [
    "# I'm only interested in a few of the variables, as represented in the list\n",
    "dframes = dict()\n",
    "for k, url in player_dict.items():\n",
    "    dframes[k] = pd.read_html(url)[0][['AST','PTS','TRB','Age']]"
   ]
  },
  {
   "cell_type": "code",
   "execution_count": 4,
   "metadata": {
    "collapsed": false
   },
   "outputs": [
    {
     "data": {
      "text/html": [
       "<div>\n",
       "<style>\n",
       "    .dataframe thead tr:only-child th {\n",
       "        text-align: right;\n",
       "    }\n",
       "\n",
       "    .dataframe thead th {\n",
       "        text-align: left;\n",
       "    }\n",
       "\n",
       "    .dataframe tbody tr th {\n",
       "        vertical-align: top;\n",
       "    }\n",
       "</style>\n",
       "<table border=\"1\" class=\"dataframe\">\n",
       "  <thead>\n",
       "    <tr style=\"text-align: right;\">\n",
       "      <th></th>\n",
       "      <th>AST</th>\n",
       "      <th>PTS</th>\n",
       "      <th>TRB</th>\n",
       "      <th>Age</th>\n",
       "    </tr>\n",
       "  </thead>\n",
       "  <tbody>\n",
       "    <tr>\n",
       "      <th>0</th>\n",
       "      <td>1.4</td>\n",
       "      <td>20.6</td>\n",
       "      <td>11.9</td>\n",
       "      <td>22.0</td>\n",
       "    </tr>\n",
       "    <tr>\n",
       "      <th>1</th>\n",
       "      <td>2.0</td>\n",
       "      <td>23.5</td>\n",
       "      <td>11.5</td>\n",
       "      <td>23.0</td>\n",
       "    </tr>\n",
       "    <tr>\n",
       "      <th>2</th>\n",
       "      <td>2.9</td>\n",
       "      <td>23.4</td>\n",
       "      <td>11.4</td>\n",
       "      <td>24.0</td>\n",
       "    </tr>\n",
       "    <tr>\n",
       "      <th>3</th>\n",
       "      <td>2.1</td>\n",
       "      <td>22.8</td>\n",
       "      <td>12.1</td>\n",
       "      <td>25.0</td>\n",
       "    </tr>\n",
       "    <tr>\n",
       "      <th>4</th>\n",
       "      <td>1.8</td>\n",
       "      <td>24.8</td>\n",
       "      <td>13.5</td>\n",
       "      <td>26.0</td>\n",
       "    </tr>\n",
       "  </tbody>\n",
       "</table>\n",
       "</div>"
      ],
      "text/plain": [
       "   AST   PTS   TRB   Age\n",
       "0  1.4  20.6  11.9  22.0\n",
       "1  2.0  23.5  11.5  23.0\n",
       "2  2.9  23.4  11.4  24.0\n",
       "3  2.1  22.8  12.1  25.0\n",
       "4  1.8  24.8  13.5  26.0"
      ]
     },
     "execution_count": 4,
     "metadata": {},
     "output_type": "execute_result"
    }
   ],
   "source": [
    "dframes['ho_dframe'][:5]"
   ]
  },
  {
   "cell_type": "markdown",
   "metadata": {},
   "source": [
    "So we know based on the index passed to dframes that these stats belong to the Dream, but there is no way of knowing this by looking at the dframe itself. Thus now that we have a dictionary containing the player dframes, let's add an additional column that identifies the player. For this we will use a list containing the player initials that **follows the same order as the player_dict keys**, i.e., `initials[0] = 'SO'`,`list(dframe.keys())[0] = 'shaq_dframe'`."
   ]
  },
  {
   "cell_type": "code",
   "execution_count": 5,
   "metadata": {
    "collapsed": false
   },
   "outputs": [],
   "source": [
    "initials = ['SO', 'TD', 'KG', 'KA', 'HO', 'CB', 'KM']\n",
    "dframe_list = list()\n",
    "i = 0\n",
    "for k in dframes.keys():\n",
    "    dframes[k]['player'] = pd.Series([initials[i] for n in range(len(dframes[k]))])\n",
    "    dframe_list.append(dframes[k])\n",
    "    i += 1\n",
    "\n",
    "main_frame = pd.concat(dframe_list)"
   ]
  },
  {
   "cell_type": "code",
   "execution_count": 6,
   "metadata": {
    "collapsed": false,
    "scrolled": false
   },
   "outputs": [
    {
     "data": {
      "text/html": [
       "<div>\n",
       "<style>\n",
       "    .dataframe thead tr:only-child th {\n",
       "        text-align: right;\n",
       "    }\n",
       "\n",
       "    .dataframe thead th {\n",
       "        text-align: left;\n",
       "    }\n",
       "\n",
       "    .dataframe tbody tr th {\n",
       "        vertical-align: top;\n",
       "    }\n",
       "</style>\n",
       "<table border=\"1\" class=\"dataframe\">\n",
       "  <thead>\n",
       "    <tr style=\"text-align: right;\">\n",
       "      <th></th>\n",
       "      <th>AST</th>\n",
       "      <th>PTS</th>\n",
       "      <th>TRB</th>\n",
       "      <th>Age</th>\n",
       "    </tr>\n",
       "  </thead>\n",
       "  <tbody>\n",
       "    <tr>\n",
       "      <th>count</th>\n",
       "      <td>143.000000</td>\n",
       "      <td>143.000000</td>\n",
       "      <td>143.000000</td>\n",
       "      <td>136.000000</td>\n",
       "    </tr>\n",
       "    <tr>\n",
       "      <th>mean</th>\n",
       "      <td>3.176224</td>\n",
       "      <td>21.209790</td>\n",
       "      <td>10.565035</td>\n",
       "      <td>30.147059</td>\n",
       "    </tr>\n",
       "    <tr>\n",
       "      <th>std</th>\n",
       "      <td>1.091514</td>\n",
       "      <td>6.097856</td>\n",
       "      <td>2.488686</td>\n",
       "      <td>5.636560</td>\n",
       "    </tr>\n",
       "    <tr>\n",
       "      <th>min</th>\n",
       "      <td>0.700000</td>\n",
       "      <td>3.200000</td>\n",
       "      <td>3.900000</td>\n",
       "      <td>19.000000</td>\n",
       "    </tr>\n",
       "    <tr>\n",
       "      <th>25%</th>\n",
       "      <td>2.400000</td>\n",
       "      <td>17.650000</td>\n",
       "      <td>8.950000</td>\n",
       "      <td>25.000000</td>\n",
       "    </tr>\n",
       "    <tr>\n",
       "      <th>50%</th>\n",
       "      <td>3.100000</td>\n",
       "      <td>22.200000</td>\n",
       "      <td>10.900000</td>\n",
       "      <td>30.000000</td>\n",
       "    </tr>\n",
       "    <tr>\n",
       "      <th>75%</th>\n",
       "      <td>3.900000</td>\n",
       "      <td>25.750000</td>\n",
       "      <td>12.100000</td>\n",
       "      <td>35.000000</td>\n",
       "    </tr>\n",
       "    <tr>\n",
       "      <th>max</th>\n",
       "      <td>6.000000</td>\n",
       "      <td>34.800000</td>\n",
       "      <td>16.900000</td>\n",
       "      <td>41.000000</td>\n",
       "    </tr>\n",
       "  </tbody>\n",
       "</table>\n",
       "</div>"
      ],
      "text/plain": [
       "              AST         PTS         TRB         Age\n",
       "count  143.000000  143.000000  143.000000  136.000000\n",
       "mean     3.176224   21.209790   10.565035   30.147059\n",
       "std      1.091514    6.097856    2.488686    5.636560\n",
       "min      0.700000    3.200000    3.900000   19.000000\n",
       "25%      2.400000   17.650000    8.950000   25.000000\n",
       "50%      3.100000   22.200000   10.900000   30.000000\n",
       "75%      3.900000   25.750000   12.100000   35.000000\n",
       "max      6.000000   34.800000   16.900000   41.000000"
      ]
     },
     "execution_count": 6,
     "metadata": {},
     "output_type": "execute_result"
    }
   ],
   "source": [
    "# Let's take a looke at the data\n",
    "main_frame.describe()"
   ]
  },
  {
   "cell_type": "markdown",
   "metadata": {},
   "source": [
    "## Let's check the distrubitions and see if there's any funny business"
   ]
  },
  {
   "cell_type": "code",
   "execution_count": 7,
   "metadata": {
    "collapsed": false
   },
   "outputs": [],
   "source": [
    "boards = pd.Series(main_frame['TRB'], name=\"Boards\")"
   ]
  },
  {
   "cell_type": "code",
   "execution_count": 8,
   "metadata": {
    "collapsed": true
   },
   "outputs": [],
   "source": [
    "points = pd.Series(main_frame['PTS'], name=\"Points\")"
   ]
  },
  {
   "cell_type": "code",
   "execution_count": 9,
   "metadata": {
    "collapsed": false,
    "scrolled": true
   },
   "outputs": [
    {
     "data": {
      "image/png": "[encoded data removed]",
      "text/plain": [
       "<matplotlib.figure.Figure at 0x22a539d8b70>"
      ]
     },
     "metadata": {},
     "output_type": "display_data"
    }
   ],
   "source": [
    "sns.set_style(\"darkgrid\")\n",
    "f, (ax1, ax2) = plt.subplots(1, 2, figsize=(15,5))\n",
    "point_dist = sns.distplot(points, label=\"Points\", ax=ax1)\n",
    "boards_dist = sns.distplot(boards, label=\"Boards\", ax=ax2)"
   ]
  },
  {
   "cell_type": "markdown",
   "metadata": {},
   "source": [
    "There appears to be quite low variance in these samples and a slight skew to the left -- this is likely due to the size of the data set (*n*=143). However, considering this analysis is more for expository purposes and there is a relatively normal distribution for each sample, we'll accept the data in its current form.\n",
    "<hr>\n",
    "Next, let's view the shape of the relationship between boards and points, specifically our intention is to regress points onto boards."
   ]
  },
  {
   "cell_type": "code",
   "execution_count": 10,
   "metadata": {
    "collapsed": false,
    "scrolled": true
   },
   "outputs": [
    {
     "data": {
      "text/plain": [
       "<matplotlib.text.Text at 0x22a53de4668>"
      ]
     },
     "execution_count": 10,
     "metadata": {},
     "output_type": "execute_result"
    },
    {
     "data": {
      "image/png": "[encoded data removed]",
      "text/plain": [
       "<matplotlib.figure.Figure at 0x22a539d87f0>"
      ]
     },
     "metadata": {},
     "output_type": "display_data"
    }
   ],
   "source": [
    "sns.set_style(\"white\")\n",
    "f, ax = plt.subplots(figsize=(6,5))\n",
    "ax.plot(boards, points, 'ro')\n",
    "ax.set_xlabel(\"Boards\")\n",
    "ax.set_ylabel(\"Points\")"
   ]
  },
  {
   "cell_type": "markdown",
   "metadata": {},
   "source": [
    "Excellent! This data has a decent homoscedasticity and nice linear trend, thus simple linear regression seems to be the right\n",
    "tool for the job."
   ]
  },
  {
   "cell_type": "markdown",
   "metadata": {
    "collapsed": true
   },
   "source": [
    "## Simple Linear Regression Analysis\n",
    "<hr>\n",
    "For this section we will be trying to use as little dependencies as possible. I recently had an interesting discussion with a  Python expert regarding which learning method is best for programming: \n",
    "<ol>\n",
    "<li>Results first (namely, use of libraries/built-in functions), the fundamentals will come</li>\n",
    "<li>Super-strong understanding of the fundamentals, then implement libraries</li>\n",
    "</ol>\n",
    "\n",
    "Though he is the Python expert, I have an undergraduate in psychology, thus I will be going with the latter method.\n",
    "\n",
    "### Formulas\n",
    "All the formulas I am using are present in *An Introduction to Statistical Learning with Applications in R,* by James et al., 2013.\n",
    "\n",
    "*Note: At the end of this notebook we'll compare the accuracy of my code to Scipy's*\n",
    "<br>"
   ]
  },
  {
   "cell_type": "markdown",
   "metadata": {},
   "source": [
    "First, let's get everthing we needs to compute our slope. \n",
    "We will be modelling the following equation (p.62): \n",
    "<br>\n",
    "<br>\n",
    "$\\huge\\hat\\beta_1=\\frac{\\sum_{i=0}^n (x_i - \\bar{x})(y_i - \\bar{y})}{\\sum_{i=0}^n(x_i - \\bar{x})^2}$\n",
    "<br>\n",
    "Recall that $x_n$ and $y_n$ represent our rebounds and points, respectively."
   ]
  },
  {
   "cell_type": "code",
   "execution_count": 11,
   "metadata": {
    "collapsed": false
   },
   "outputs": [
    {
     "name": "stdout",
     "output_type": "stream",
     "text": [
      "boards M:  10.565034965\n",
      "points M:  21.2097902098\n"
     ]
    }
   ],
   "source": [
    "# Compute the means\n",
    "boardsMean = sum(boards) / float(len(boards))\n",
    "pointsMean = sum(points) / float(len(points))\n",
    "print(\"boards M: \",boardsMean)\n",
    "print(\"points M: \",pointsMean)"
   ]
  },
  {
   "cell_type": "code",
   "execution_count": 12,
   "metadata": {
    "collapsed": false
   },
   "outputs": [
    {
     "data": {
      "text/plain": [
       "1.8024282801174698"
      ]
     },
     "execution_count": 12,
     "metadata": {},
     "output_type": "execute_result"
    }
   ],
   "source": [
    "# Calculate the slope\n",
    "rise = 0\n",
    "run = 0\n",
    "for i, x in enumerate(list(boards)):\n",
    "    rise += (x - boardsMean) * (list(points)[i] - pointsMean) \n",
    "    run += (x - boardsMean) ** 2\n",
    "\n",
    "mySlope = rise/run\n",
    "mySlope"
   ]
  },
  {
   "cell_type": "markdown",
   "metadata": {
    "collapsed": false
   },
   "source": [
    "Now that we have our slope let's get our intercept (p.62).\n",
    "<br>\n",
    "<br>\n",
    "$\\huge\\hat\\beta_0=\\bar{y}-\\hat\\beta_1\\bar{x}$"
   ]
  },
  {
   "cell_type": "code",
   "execution_count": 13,
   "metadata": {
    "collapsed": false
   },
   "outputs": [
    {
     "data": {
      "text/plain": [
       "2.1670724083812942"
      ]
     },
     "execution_count": 13,
     "metadata": {},
     "output_type": "execute_result"
    }
   ],
   "source": [
    "yInter = pointsMean - (mySlope * boardsMean) \n",
    "yInter"
   ]
  },
  {
   "cell_type": "markdown",
   "metadata": {},
   "source": [
    "Let's view our regression line and see how well our coefficients fit the data."
   ]
  },
  {
   "cell_type": "code",
   "execution_count": 14,
   "metadata": {
    "collapsed": false,
    "scrolled": true
   },
   "outputs": [
    {
     "data": {
      "text/plain": [
       "<matplotlib.legend.Legend at 0x22a53da16a0>"
      ]
     },
     "execution_count": 14,
     "metadata": {},
     "output_type": "execute_result"
    },
    {
     "data": {
      "image/png": "[encoded data removed]",
      "text/plain": [
       "<matplotlib.figure.Figure at 0x22a540b41d0>"
      ]
     },
     "metadata": {},
     "output_type": "display_data"
    }
   ],
   "source": [
    "f, ax = plt.subplots(figsize=(7,5))\n",
    "sns.set_style(\"white\")\n",
    "scatter = ax.plot(boards, points, 'o', label='Data')\n",
    "line = ax.plot(boards, yInter + mySlope*boards, 'r', label='fitted line')\n",
    "plt.legend()"
   ]
  },
  {
   "cell_type": "markdown",
   "metadata": {},
   "source": [
    "Looks pretty good to me. Ok, so we've had our fun, let's find out what this all means!\n",
    "\n",
    "*For the following code note that \"SE\" stands for \"Standard Error\"*"
   ]
  },
  {
   "cell_type": "markdown",
   "metadata": {},
   "source": [
    "$\\huge\\textit{RSS} = (y_n - \\beta_0 - \\beta_n x_n)$"
   ]
  },
  {
   "cell_type": "code",
   "execution_count": 15,
   "metadata": {
    "collapsed": false
   },
   "outputs": [
    {
     "data": {
      "text/plain": [
       "2422.880850440316"
      ]
     },
     "execution_count": 15,
     "metadata": {},
     "output_type": "execute_result"
    }
   ],
   "source": [
    "# Compute the residual sum of squares\n",
    "RSS = 0\n",
    "for i, y in enumerate(list(points)):\n",
    "    RSS += (y - (yInter + (mySlope*list(boards)[i])))**2\n",
    "RSS"
   ]
  },
  {
   "cell_type": "markdown",
   "metadata": {},
   "source": [
    "$\\huge\\textit{RSE} = \\sqrt{RSS  /  n-2}$"
   ]
  },
  {
   "cell_type": "code",
   "execution_count": 16,
   "metadata": {
    "collapsed": false,
    "scrolled": true
   },
   "outputs": [
    {
     "data": {
      "text/plain": [
       "4.1453048296575705"
      ]
     },
     "execution_count": 16,
     "metadata": {},
     "output_type": "execute_result"
    }
   ],
   "source": [
    "# Find the residual standard err\n",
    "RSE = (RSS/(len(boards)-2))** 0.5\n",
    "RSE"
   ]
  },
  {
   "cell_type": "code",
   "execution_count": 17,
   "metadata": {
    "collapsed": false
   },
   "outputs": [
    {
     "data": {
      "text/plain": [
       "5280.1062937062916"
      ]
     },
     "execution_count": 17,
     "metadata": {},
     "output_type": "execute_result"
    }
   ],
   "source": [
    "# total sum of squares\n",
    "TSS = 0\n",
    "for y in points:\n",
    "    TSS += (y - pointsMean)**2\n",
    "TSS"
   ]
  },
  {
   "cell_type": "code",
   "execution_count": 18,
   "metadata": {
    "collapsed": false
   },
   "outputs": [
    {
     "data": {
      "text/plain": [
       "0.54113028873522717"
      ]
     },
     "execution_count": 18,
     "metadata": {},
     "output_type": "execute_result"
    }
   ],
   "source": [
    "# R squared\n",
    "myRsquared = 1 - (RSS/TSS)\n",
    "myRsquared"
   ]
  },
  {
   "cell_type": "markdown",
   "metadata": {},
   "source": [
    "Now let's see how we stack up with scipy so far..."
   ]
  },
  {
   "cell_type": "code",
   "execution_count": 19,
   "metadata": {
    "collapsed": true
   },
   "outputs": [],
   "source": [
    "from scipy import stats\n",
    "slope, intercept, r_value, p_value, std_err = stats.linregress(boards,points)"
   ]
  },
  {
   "cell_type": "code",
   "execution_count": 20,
   "metadata": {
    "collapsed": false
   },
   "outputs": [],
   "source": [
    "from collections import OrderedDict"
   ]
  },
  {
   "cell_type": "code",
   "execution_count": 21,
   "metadata": {
    "collapsed": false
   },
   "outputs": [],
   "source": [
    "compare_stats = OrderedDict([('stats',['slope','intercept','r-sqaured']),\n",
    "                             ('me',[mySlope, yInter, myRsquared]),\n",
    "                             ('scipy',[slope, intercept, r_value**2])\n",
    "                            ])\n",
    "\n",
    "comparison_dframe = pd.DataFrame(compare_stats)"
   ]
  },
  {
   "cell_type": "code",
   "execution_count": 22,
   "metadata": {
    "collapsed": false
   },
   "outputs": [
    {
     "data": {
      "text/html": [
       "<div>\n",
       "<style>\n",
       "    .dataframe thead tr:only-child th {\n",
       "        text-align: right;\n",
       "    }\n",
       "\n",
       "    .dataframe thead th {\n",
       "        text-align: left;\n",
       "    }\n",
       "\n",
       "    .dataframe tbody tr th {\n",
       "        vertical-align: top;\n",
       "    }\n",
       "</style>\n",
       "<table border=\"1\" class=\"dataframe\">\n",
       "  <thead>\n",
       "    <tr style=\"text-align: right;\">\n",
       "      <th></th>\n",
       "      <th>stats</th>\n",
       "      <th>me</th>\n",
       "      <th>scipy</th>\n",
       "    </tr>\n",
       "  </thead>\n",
       "  <tbody>\n",
       "    <tr>\n",
       "      <th>0</th>\n",
       "      <td>slope</td>\n",
       "      <td>1.802428</td>\n",
       "      <td>1.802428</td>\n",
       "    </tr>\n",
       "    <tr>\n",
       "      <th>1</th>\n",
       "      <td>intercept</td>\n",
       "      <td>2.167072</td>\n",
       "      <td>2.167072</td>\n",
       "    </tr>\n",
       "    <tr>\n",
       "      <th>2</th>\n",
       "      <td>r-sqaured</td>\n",
       "      <td>0.541130</td>\n",
       "      <td>0.541130</td>\n",
       "    </tr>\n",
       "  </tbody>\n",
       "</table>\n",
       "</div>"
      ],
      "text/plain": [
       "       stats        me     scipy\n",
       "0      slope  1.802428  1.802428\n",
       "1  intercept  2.167072  2.167072\n",
       "2  r-sqaured  0.541130  0.541130"
      ]
     },
     "execution_count": 22,
     "metadata": {},
     "output_type": "execute_result"
    }
   ],
   "source": [
    "comparison_dframe"
   ]
  },
  {
   "cell_type": "markdown",
   "metadata": {},
   "source": [
    "**Excellent!** We are accurate to the millionth place! A few more decimal places, however, and the numbers are no longer exact matches, specifically the 16th decimal place (i.e., `1.8024282801174698` > `1.8024282801174696`, where the former value is from Scipy). \n",
    "\n",
    "Now that we know our methods work, we can turn them into functions to help with our multiple linear regression, i.e., when we take bring dimes (assists) into the picture! But before we do that, let's continue our analyses."
   ]
  },
  {
   "cell_type": "code",
   "execution_count": 23,
   "metadata": {
    "collapsed": false
   },
   "outputs": [
    {
     "data": {
      "text/plain": [
       "0.019538194187523585"
      ]
     },
     "execution_count": 23,
     "metadata": {},
     "output_type": "execute_result"
    }
   ],
   "source": [
    "SE_slope_squared = (RSE**2)/run\n",
    "SE_slope_squared"
   ]
  },
  {
   "cell_type": "code",
   "execution_count": 24,
   "metadata": {
    "collapsed": false
   },
   "outputs": [
    {
     "data": {
      "text/plain": [
       "2.302721692219349"
      ]
     },
     "execution_count": 24,
     "metadata": {},
     "output_type": "execute_result"
    }
   ],
   "source": [
    "SE_yInter_squared = (((RSE**2)/(len(points)-2)) + ((RSE**2)*(boardsMean**2)/run))  \n",
    "SE_yInter_squared"
   ]
  },
  {
   "cell_type": "code",
   "execution_count": 25,
   "metadata": {
    "collapsed": false
   },
   "outputs": [
    {
     "data": {
      "text/plain": [
       "12.894834781972383"
      ]
     },
     "execution_count": 25,
     "metadata": {},
     "output_type": "execute_result"
    }
   ],
   "source": [
    "t_score = (mySlope-0)/SE_slope_squared**0.5\n",
    "t_score"
   ]
  },
  {
   "cell_type": "code",
   "execution_count": 26,
   "metadata": {
    "collapsed": false
   },
   "outputs": [
    {
     "name": "stdout",
     "output_type": "stream",
     "text": [
      "The 95% probability that the true value of y will fall between 15.23 and 20.82 points.\n"
     ]
    }
   ],
   "source": [
    "ci_slope_lower, ci_slope_upper = ((mySlope - (2*(SE_slope_squared**0.5))),\n",
    "                                  (mySlope + (2*(SE_slope_squared**0.5))))\n",
    "\n",
    "print(\"The 95% probability that the true value of y will fall between {0} and {1} points.\".format(round(ci_slope_lower*10,2),\n",
    "                                                                                                        round(ci_slope_upper*10,2)))"
   ]
  },
  {
   "cell_type": "code",
   "execution_count": 27,
   "metadata": {
    "collapsed": false
   },
   "outputs": [
    {
     "data": {
      "text/plain": [
       "(-0.86787186934068661, 5.2020166861032751)"
      ]
     },
     "execution_count": 27,
     "metadata": {},
     "output_type": "execute_result"
    }
   ],
   "source": [
    "ci_inter_lower, ci_inter_upper = ((yInter - (2*(SE_yInter_squared**0.5))),\n",
    "                                  (yInter + (2*(SE_yInter_squared**0.5))))\n",
    "\n",
    "ci_inter_lower, ci_inter_upper"
   ]
  },
  {
   "cell_type": "markdown",
   "metadata": {},
   "source": [
    "Looks like we need clean the data a bit"
   ]
  },
  {
   "cell_type": "code",
   "execution_count": 107,
   "metadata": {
    "collapsed": false
   },
   "outputs": [
    {
     "data": {
      "text/html": [
       "<div>\n",
       "<style>\n",
       "    .dataframe thead tr:only-child th {\n",
       "        text-align: right;\n",
       "    }\n",
       "\n",
       "    .dataframe thead th {\n",
       "        text-align: left;\n",
       "    }\n",
       "\n",
       "    .dataframe tbody tr th {\n",
       "        vertical-align: top;\n",
       "    }\n",
       "</style>\n",
       "<table border=\"1\" class=\"dataframe\">\n",
       "  <thead>\n",
       "    <tr style=\"text-align: right;\">\n",
       "      <th></th>\n",
       "      <th>AST</th>\n",
       "      <th>PTS</th>\n",
       "      <th>TRB</th>\n",
       "      <th>Age</th>\n",
       "    </tr>\n",
       "  </thead>\n",
       "  <tbody>\n",
       "    <tr>\n",
       "      <th>count</th>\n",
       "      <td>143.000000</td>\n",
       "      <td>143.000000</td>\n",
       "      <td>143.000000</td>\n",
       "      <td>136.000000</td>\n",
       "    </tr>\n",
       "    <tr>\n",
       "      <th>mean</th>\n",
       "      <td>3.176224</td>\n",
       "      <td>21.209790</td>\n",
       "      <td>10.565035</td>\n",
       "      <td>30.147059</td>\n",
       "    </tr>\n",
       "    <tr>\n",
       "      <th>std</th>\n",
       "      <td>1.091514</td>\n",
       "      <td>6.097856</td>\n",
       "      <td>2.488686</td>\n",
       "      <td>5.636560</td>\n",
       "    </tr>\n",
       "    <tr>\n",
       "      <th>min</th>\n",
       "      <td>0.700000</td>\n",
       "      <td>3.200000</td>\n",
       "      <td>3.900000</td>\n",
       "      <td>19.000000</td>\n",
       "    </tr>\n",
       "    <tr>\n",
       "      <th>25%</th>\n",
       "      <td>2.400000</td>\n",
       "      <td>17.650000</td>\n",
       "      <td>8.950000</td>\n",
       "      <td>25.000000</td>\n",
       "    </tr>\n",
       "    <tr>\n",
       "      <th>50%</th>\n",
       "      <td>3.100000</td>\n",
       "      <td>22.200000</td>\n",
       "      <td>10.900000</td>\n",
       "      <td>30.000000</td>\n",
       "    </tr>\n",
       "    <tr>\n",
       "      <th>75%</th>\n",
       "      <td>3.900000</td>\n",
       "      <td>25.750000</td>\n",
       "      <td>12.100000</td>\n",
       "      <td>35.000000</td>\n",
       "    </tr>\n",
       "    <tr>\n",
       "      <th>max</th>\n",
       "      <td>6.000000</td>\n",
       "      <td>34.800000</td>\n",
       "      <td>16.900000</td>\n",
       "      <td>41.000000</td>\n",
       "    </tr>\n",
       "  </tbody>\n",
       "</table>\n",
       "</div>"
      ],
      "text/plain": [
       "              AST         PTS         TRB         Age\n",
       "count  143.000000  143.000000  143.000000  136.000000\n",
       "mean     3.176224   21.209790   10.565035   30.147059\n",
       "std      1.091514    6.097856    2.488686    5.636560\n",
       "min      0.700000    3.200000    3.900000   19.000000\n",
       "25%      2.400000   17.650000    8.950000   25.000000\n",
       "50%      3.100000   22.200000   10.900000   30.000000\n",
       "75%      3.900000   25.750000   12.100000   35.000000\n",
       "max      6.000000   34.800000   16.900000   41.000000"
      ]
     },
     "execution_count": 107,
     "metadata": {},
     "output_type": "execute_result"
    }
   ],
   "source": [
    "stats = main_frame.describe()\n",
    "stats"
   ]
  },
  {
   "cell_type": "code",
   "execution_count": 108,
   "metadata": {
    "collapsed": false
   },
   "outputs": [],
   "source": [
    "points_sd = stats['PTS']['std']\n",
    "points_sd = stats['TRB']['std']"
   ]
  },
  {
   "cell_type": "code",
   "execution_count": 126,
   "metadata": {
    "collapsed": false
   },
   "outputs": [],
   "source": [
    "# create new list\n",
    "# outlier will be 2 SD from mean\n",
    "cleanPoints = [i for i in points if i < pointsMean+(2*points_sd) and i > pointsMean-(2*points_sd)]\n",
    "cleanBoards = [i for i in boards if i < boardsMean+(2*points_sd) and i > boardsMean-(2*points_sd)]"
   ]
  },
  {
   "cell_type": "code",
   "execution_count": 127,
   "metadata": {
    "collapsed": false
   },
   "outputs": [
    {
     "data": {
      "text/plain": [
       "(78, 135)"
      ]
     },
     "execution_count": 127,
     "metadata": {},
     "output_type": "execute_result"
    }
   ],
   "source": [
    "len(cleanPoints), len(cleanBoards)"
   ]
  },
  {
   "cell_type": "code",
   "execution_count": 30,
   "metadata": {
    "collapsed": false
   },
   "outputs": [
    {
     "ename": "ValueError",
     "evalue": "not enough values to unpack (expected 4, got 2)",
     "output_type": "error",
     "traceback": [
      "\u001b[0;31m---------------------------------------------------------------------------\u001b[0m",
      "\u001b[0;31mValueError\u001b[0m                                Traceback (most recent call last)",
      "\u001b[0;32m<ipython-input-30-739583f67321>\u001b[0m in \u001b[0;36m<module>\u001b[0;34m()\u001b[0m\n\u001b[0;32m----> 1\u001b[0;31m \u001b[0mf\u001b[0m\u001b[1;33m,\u001b[0m \u001b[1;33m(\u001b[0m\u001b[0max1\u001b[0m\u001b[1;33m,\u001b[0m \u001b[0max2\u001b[0m\u001b[1;33m,\u001b[0m \u001b[0max3\u001b[0m\u001b[1;33m,\u001b[0m \u001b[0max4\u001b[0m\u001b[1;33m)\u001b[0m \u001b[1;33m=\u001b[0m \u001b[0mplt\u001b[0m\u001b[1;33m.\u001b[0m\u001b[0msubplots\u001b[0m\u001b[1;33m(\u001b[0m\u001b[1;36m2\u001b[0m\u001b[1;33m,\u001b[0m \u001b[1;36m2\u001b[0m\u001b[1;33m,\u001b[0m \u001b[0mfigsize\u001b[0m\u001b[1;33m=\u001b[0m\u001b[1;33m(\u001b[0m\u001b[1;36m10\u001b[0m\u001b[1;33m,\u001b[0m\u001b[1;36m10\u001b[0m\u001b[1;33m)\u001b[0m\u001b[1;33m)\u001b[0m\u001b[1;33m\u001b[0m\u001b[0m\n\u001b[0m\u001b[1;32m      2\u001b[0m \u001b[0mpoint_dist\u001b[0m \u001b[1;33m=\u001b[0m \u001b[0msns\u001b[0m\u001b[1;33m.\u001b[0m\u001b[0mdistplot\u001b[0m\u001b[1;33m(\u001b[0m\u001b[0mpoints\u001b[0m\u001b[1;33m,\u001b[0m \u001b[0mlabel\u001b[0m\u001b[1;33m=\u001b[0m\u001b[1;34m\"Points\"\u001b[0m\u001b[1;33m,\u001b[0m\u001b[0max\u001b[0m\u001b[1;33m=\u001b[0m\u001b[0max1\u001b[0m \u001b[1;33m)\u001b[0m\u001b[1;33m\u001b[0m\u001b[0m\n\u001b[1;32m      3\u001b[0m \u001b[0mboards_dist\u001b[0m \u001b[1;33m=\u001b[0m \u001b[0msns\u001b[0m\u001b[1;33m.\u001b[0m\u001b[0mdistplot\u001b[0m\u001b[1;33m(\u001b[0m\u001b[0mboards\u001b[0m\u001b[1;33m,\u001b[0m \u001b[0mlabel\u001b[0m\u001b[1;33m=\u001b[0m\u001b[1;34m\"Boards\"\u001b[0m\u001b[1;33m,\u001b[0m \u001b[0max\u001b[0m\u001b[1;33m=\u001b[0m\u001b[0max2\u001b[0m\u001b[1;33m)\u001b[0m\u001b[1;33m\u001b[0m\u001b[0m\n\u001b[1;32m      4\u001b[0m \u001b[0mclean_points_plot\u001b[0m \u001b[1;33m=\u001b[0m \u001b[0msns\u001b[0m\u001b[1;33m.\u001b[0m\u001b[0mdistplot\u001b[0m\u001b[1;33m(\u001b[0m\u001b[0mcleanPoints\u001b[0m\u001b[1;33m,\u001b[0m \u001b[0mlabel\u001b[0m\u001b[1;33m=\u001b[0m\u001b[1;34m\"cleanPoints\"\u001b[0m\u001b[1;33m,\u001b[0m\u001b[0max\u001b[0m\u001b[1;33m=\u001b[0m\u001b[0max3\u001b[0m\u001b[1;33m)\u001b[0m\u001b[1;33m\u001b[0m\u001b[0m\n\u001b[1;32m      5\u001b[0m \u001b[0mclean_boards_plot\u001b[0m \u001b[1;33m=\u001b[0m \u001b[0msns\u001b[0m\u001b[1;33m.\u001b[0m\u001b[0mdistplot\u001b[0m\u001b[1;33m(\u001b[0m\u001b[0mcleanBoards\u001b[0m\u001b[1;33m,\u001b[0m \u001b[0mlabel\u001b[0m\u001b[1;33m=\u001b[0m\u001b[1;34m\"cleanBoards\"\u001b[0m\u001b[1;33m,\u001b[0m\u001b[0max\u001b[0m\u001b[1;33m=\u001b[0m\u001b[0max4\u001b[0m\u001b[1;33m)\u001b[0m\u001b[1;33m\u001b[0m\u001b[0m\n",
      "\u001b[0;31mValueError\u001b[0m: not enough values to unpack (expected 4, got 2)"
     ]
    },
    {
     "data": {
      "image/png": "[encoded data removed]",
      "text/plain": [
       "<matplotlib.figure.Figure at 0x22a53ea4748>"
      ]
     },
     "metadata": {},
     "output_type": "display_data"
    }
   ],
   "source": [
    "f, (ax1, ax2, ax3, ax4) = plt.subplots(2, 2, figsize=(10,10))\n",
    "point_dist = sns.distplot(points, label=\"Points\",ax=ax1 )\n",
    "boards_dist = sns.distplot(boards, label=\"Boards\", ax=ax2)\n",
    "clean_points_plot = sns.distplot(cleanPoints, label=\"cleanPoints\",ax=ax3)\n",
    "clean_boards_plot = sns.distplot(cleanBoards, label=\"cleanBoards\",ax=ax4)"
   ]
  },
  {
   "cell_type": "code",
   "execution_count": null,
   "metadata": {
    "collapsed": true
   },
   "outputs": [],
   "source": []
  }
 ],
 "metadata": {
  "kernelspec": {
   "display_name": "Python 3",
   "language": "python",
   "name": "python3"
  },
  "language_info": {
   "codemirror_mode": {
    "name": "ipython",
    "version": 3
   },
   "file_extension": ".py",
   "mimetype": "text/x-python",
   "name": "python",
   "nbconvert_exporter": "python",
   "pygments_lexer": "ipython3",
   "version": "3.6.0"
  }
 },
 "nbformat": 4,
 "nbformat_minor": 2
}
